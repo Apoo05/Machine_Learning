{
 "cells": [
  {
   "cell_type": "code",
   "execution_count": 10,
   "id": "f494b071",
   "metadata": {},
   "outputs": [],
   "source": [
    "#importing libraries\n",
    "import pandas as pd\n",
    "import numpy \n",
    "import matplotlib.pyplot as plt\n",
    "#creating a data base\n",
    "data = {'M_height': [58,62,60,64,67,70],'D_height': [60,60,58,60,70,72]}\n",
    "df = pd.DataFrame(data)"
   ]
  },
  {
   "cell_type": "code",
   "execution_count": 11,
   "id": "394f9e23",
   "metadata": {},
   "outputs": [
    {
     "data": {
      "text/html": [
       "<div>\n",
       "<style scoped>\n",
       "    .dataframe tbody tr th:only-of-type {\n",
       "        vertical-align: middle;\n",
       "    }\n",
       "\n",
       "    .dataframe tbody tr th {\n",
       "        vertical-align: top;\n",
       "    }\n",
       "\n",
       "    .dataframe thead th {\n",
       "        text-align: right;\n",
       "    }\n",
       "</style>\n",
       "<table border=\"1\" class=\"dataframe\">\n",
       "  <thead>\n",
       "    <tr style=\"text-align: right;\">\n",
       "      <th></th>\n",
       "      <th>M_height</th>\n",
       "      <th>D_height</th>\n",
       "    </tr>\n",
       "  </thead>\n",
       "  <tbody>\n",
       "    <tr>\n",
       "      <th>0</th>\n",
       "      <td>58</td>\n",
       "      <td>60</td>\n",
       "    </tr>\n",
       "    <tr>\n",
       "      <th>1</th>\n",
       "      <td>62</td>\n",
       "      <td>60</td>\n",
       "    </tr>\n",
       "    <tr>\n",
       "      <th>2</th>\n",
       "      <td>60</td>\n",
       "      <td>58</td>\n",
       "    </tr>\n",
       "    <tr>\n",
       "      <th>3</th>\n",
       "      <td>64</td>\n",
       "      <td>60</td>\n",
       "    </tr>\n",
       "    <tr>\n",
       "      <th>4</th>\n",
       "      <td>67</td>\n",
       "      <td>70</td>\n",
       "    </tr>\n",
       "    <tr>\n",
       "      <th>5</th>\n",
       "      <td>70</td>\n",
       "      <td>72</td>\n",
       "    </tr>\n",
       "  </tbody>\n",
       "</table>\n",
       "</div>"
      ],
      "text/plain": [
       "   M_height  D_height\n",
       "0        58        60\n",
       "1        62        60\n",
       "2        60        58\n",
       "3        64        60\n",
       "4        67        70\n",
       "5        70        72"
      ]
     },
     "execution_count": 11,
     "metadata": {},
     "output_type": "execute_result"
    }
   ],
   "source": [
    "df"
   ]
  },
  {
   "cell_type": "markdown",
   "id": "a8da13d2",
   "metadata": {},
   "source": [
    "Given a new mother height 63, Use linear regression to predict her daughter’s\n",
    "height, also optimize the result using Gradient descent algorithm?"
   ]
  },
  {
   "cell_type": "code",
   "execution_count": 12,
   "id": "7ea1092c",
   "metadata": {},
   "outputs": [],
   "source": [
    "#for selecting independentand target varaibles\n",
    "x=df['M_height']\n",
    "y=df['D_height']"
   ]
  },
  {
   "cell_type": "code",
   "execution_count": 13,
   "id": "50e3ee94",
   "metadata": {},
   "outputs": [],
   "source": [
    "#spliting the data into train and test\n",
    "from sklearn.model_selection import train_test_split\n",
    "x_train,x_test,y_train,y_test=train_test_split(x,y,test_size=0.2, random_state=2)"
   ]
  },
  {
   "cell_type": "code",
   "execution_count": 14,
   "id": "7d94bef6",
   "metadata": {},
   "outputs": [
    {
     "data": {
      "text/plain": [
       "LinearRegression()"
      ]
     },
     "execution_count": 14,
     "metadata": {},
     "output_type": "execute_result"
    }
   ],
   "source": [
    "#linear  regression\n",
    "from sklearn import linear_model\n",
    "model=linear_model.LinearRegression()\n",
    "model.fit(x_train.values.reshape(-1,1),y_train)"
   ]
  },
  {
   "cell_type": "code",
   "execution_count": 17,
   "id": "bcae5392",
   "metadata": {},
   "outputs": [
    {
     "data": {
      "image/png": "[encoded data removed]",
      "text/plain": [
       "<Figure size 576x432 with 1 Axes>"
      ]
     },
     "metadata": {
      "needs_background": "light"
     },
     "output_type": "display_data"
    }
   ],
   "source": [
    "# Plotting the regression line\n",
    "plt.figure(figsize = (8,6))\n",
    "plt.scatter(x,y,marker='o',color='red')\n",
    "plt.plot([min(x), max(x)],[min(y_test),max(y_test)],color='blue',markerfacecolor='red')\n",
    "plt.xlabel(\"X\")\n",
    "plt.ylabel(\"Y\")\n",
    "plt.show()"
   ]
  },
  {
   "cell_type": "code",
   "execution_count": 19,
   "id": "a49bcc0e",
   "metadata": {},
   "outputs": [
    {
     "data": {
      "text/plain": [
       "array([62.5])"
      ]
     },
     "execution_count": 19,
     "metadata": {},
     "output_type": "execute_result"
    }
   ],
   "source": [
    "#predicting for height 63\n",
    "model.predict([[63]])"
   ]
  },
  {
   "cell_type": "code",
   "execution_count": 20,
   "id": "5a5da883",
   "metadata": {},
   "outputs": [
    {
     "name": "stdout",
     "output_type": "stream",
     "text": [
      "Iteration 1: Cost 3272.3487666666665, Weight \t\t0.8272296666666666, Bias 0.021394666666666666\n",
      "Iteration 2: Cost 124.75111685906859, Weight \t\t0.9654282779888889, Bias 0.023551237633333333\n",
      "Iteration 3: Cost 11.081987767210245, Weight \t\t0.9916908720314763, Bias 0.023952254922014443\n",
      "Iteration 4: Cost 6.977055751555135, Weight \t\t0.9966817999186116, Bias 0.02401965706289696\n",
      "Iteration 5: Cost 6.828813288403584, Weight \t\t0.9976303847598185, Bias 0.02402366093918468\n",
      "Iteration 6: Cost 6.823458672129618, Weight \t\t0.9978107863668818, Bias 0.024015616987213814\n",
      "Estimated Weight: 0.9978107863668818\n",
      "Estimated Bias: 0.024015616987213814\n"
     ]
    },
    {
     "data": {
      "image/png": "[encoded data removed]",
      "text/plain": [
       "<Figure size 576x432 with 1 Axes>"
      ]
     },
     "metadata": {
      "needs_background": "light"
     },
     "output_type": "display_data"
    }
   ],
   "source": [
    "def mean_squared_error(y_true, y_predicted):\n",
    "\t# Calculating the loss or cost\n",
    "\tcost = np.sum((y_true-y_predicted)**2) / len(y_true)\n",
    "\treturn cost\n",
    "\n",
    "# Gradient Descent Function\n",
    "# Here iterations, learning_rate, stopping_threshold\n",
    "# are hyperparameters that can be tuned\n",
    "def gradient_descent(x, y, iterations = 10, learning_rate = 0.0001,\n",
    "\t\t\t\t\tstopping_threshold = 1e-6):\n",
    "\t\n",
    "\t# Initializing weight, bias, learning rate and iterations\n",
    "\tcurrent_weight = 0.1\n",
    "\tcurrent_bias = 0.01\n",
    "\titerations = iterations\n",
    "\tlearning_rate = learning_rate\n",
    "\tn = float(len(x))\n",
    "\t\n",
    "\tcosts = []\n",
    "\tweights = []\n",
    "\tprevious_cost = None\n",
    "\t\n",
    "\t# Estimation of optimal parameters\n",
    "\tfor i in range(iterations):\n",
    "\t\t\n",
    "\t\t# Making predictions\n",
    "\t\ty_predicted = (current_weight * x) + current_bias\n",
    "\t\t\n",
    "\t\t# Calculating the current cost\n",
    "\t\tcurrent_cost = mean_squared_error(y, y_predicted)\n",
    "\n",
    "\t\t# If the change in cost is less than or equal to\n",
    "\t\t# stopping_threshold we stop the gradient descent\n",
    "\t\tif previous_cost and abs(previous_cost-current_cost)<=stopping_threshold:\n",
    "\t\t\tbreak\n",
    "\t\t\n",
    "\t\tprevious_cost = current_cost\n",
    "\n",
    "\t\tcosts.append(current_cost)\n",
    "\t\tweights.append(current_weight)\n",
    "\t\t\n",
    "\t\t# Calculating the gradients\n",
    "\t\tweight_derivative = -(2/n) * sum(x * (y-y_predicted))\n",
    "\t\tbias_derivative = -(2/n) * sum(y-y_predicted)\n",
    "\t\t\n",
    "\t\t# Updating weights and bias\n",
    "\t\tcurrent_weight = current_weight - (learning_rate * weight_derivative)\n",
    "\t\tcurrent_bias = current_bias - (learning_rate * bias_derivative)\n",
    "\t\t\t\t\n",
    "\t\t# Printing the parameters for each 1000th iteration\n",
    "\t\tprint(f\"Iteration {i+1}: Cost {current_cost}, Weight \\\n",
    "\t\t{current_weight}, Bias {current_bias}\")\n",
    "\treturn current_weight, current_bias\n",
    "\n",
    "# Data\n",
    "X = np.array([58,62,60,64,67,70])\n",
    "Y = np.array([60,60,58,60,70,72])\n",
    "\n",
    "# Estimating weight and bias using gradient descent\n",
    "estimated_weight, estimated_bias = gradient_descent(X, Y, iterations=6)\n",
    "print(f\"Estimated Weight: {estimated_weight}\\nEstimated Bias: {estimated_bias}\")\n",
    "\n",
    "# Making predictions using estimated parameters\n",
    "Y_pred = estimated_weight*X + estimated_bias\n",
    "\n",
    "# Plotting the regression line\n",
    "plt.figure(figsize = (8,6))\n",
    "plt.scatter(X, Y, marker='o', color='red')\n",
    "plt.plot([min(X), max(X)], [min(Y_pred), max(Y_pred)], color='blue',markerfacecolor='red',\n",
    "markersize=10,linestyle='dashed')\n",
    "plt.xlabel(\"X\")\n",
    "plt.ylabel(\"Y\")\n",
    "plt.show()"
   ]
  },
  {
   "cell_type": "code",
   "execution_count": null,
   "id": "615b7be5",
   "metadata": {},
   "outputs": [],
   "source": []
  }
 ],
 "metadata": {
  "kernelspec": {
   "display_name": "Python 3 (ipykernel)",
   "language": "python",
   "name": "python3"
  },
  "language_info": {
   "codemirror_mode": {
    "name": "ipython",
    "version": 3
   },
   "file_extension": ".py",
   "mimetype": "text/x-python",
   "name": "python",
   "nbconvert_exporter": "python",
   "pygments_lexer": "ipython3",
   "version": "3.9.12"
  }
 },
 "nbformat": 4,
 "nbformat_minor": 5
}
